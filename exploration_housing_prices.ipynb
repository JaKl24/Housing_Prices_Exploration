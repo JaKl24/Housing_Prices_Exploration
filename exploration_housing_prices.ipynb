{
 "cells": [
  {
   "cell_type": "markdown",
   "metadata": {},
   "source": [
    "# Exploratory Data Analysis and Visualization Masterclass with Python\n",
    "\n",
    "The Dataset comes from [Kaggle](https://www.kaggle.com/c/house-prices-advanced-regression-techniques/data). It was made for a competition of advanced regression techniques.\n",
    "\n",
    "## Data fields\n",
    "\n",
    "Here's a brief version of what features you'll find in the data:\n",
    "\n",
    "- **SalePrice** - The property's sale price in dollars. This is the target variable that you're trying to predict.\n",
    "- **MSSubClass** - The building class  \n",
    "- **MSZoning** - The general zoning classification  \n",
    "- **LotFrontage** - Linear feet of street connected to property  \n",
    "- **LotArea** - Lot size in square feet  \n",
    "- **Street** - Type of road access  \n",
    "- **Alley** - Type of alley access  \n",
    "- **LotShape** - General shape of property  \n",
    "- **LandContour** - Flatness of the property  \n",
    "- **Utilities** - Type of utilities available  \n",
    "- **LotConfig** - Lot configuration  \n",
    "- **LandSlope** - Slope of property  \n",
    "- **Neighborhood** - Physical locations within Ames city limits  \n",
    "- **Condition1** - Proximity to main road or railroad  \n",
    "- **Condition2** - Proximity to main road or railroad (if a second is present)  \n",
    "- **BldgType** - Type of dwelling  \n",
    "- **HouseStyle** - Style of dwelling  \n",
    "- **OverallQual** - Overall material and finish quality  \n",
    "- **OverallCond** - Overall condition rating  \n",
    "- **YearBuilt** - Original construction date  \n",
    "- **YearRemodAdd** - Remodel date  \n",
    "- **RoofStyle** - Type of roof  \n",
    "- **RoofMatl** - Roof material  \n",
    "- **Exterior1st** - Exterior covering on house  \n",
    "- **Exterior2nd** - Exterior covering on house (if more than one material)  \n",
    "- **MasVnrType** - Masonry veneer type  \n",
    "- **MasVnrArea** - Masonry veneer area in square feet  \n",
    "- **ExterQual** - Exterior material quality  \n",
    "- **ExterCond** - Present condition of the material on the exterior  \n",
    "- **Foundation** - Type of foundation  \n",
    "- **BsmtQual** - Height of the basement  \n",
    "- **BsmtCond** - General condition of the basement  \n",
    "- **BsmtExposure** - Walkout or garden level basement walls  \n",
    "- **BsmtFinType1** - Quality of basement finished area  \n",
    "- **BsmtFinSF1** - Type 1 finished square feet  \n",
    "- **BsmtFinType2** - Quality of second finished area (if present)  \n",
    "- **BsmtFinSF2** - Type 2 finished square feet  \n",
    "- **BsmtUnfSF** - Unfinished square feet of basement area  \n",
    "- **TotalBsmtSF** - Total square feet of basement area  \n",
    "- **Heating** - Type of heating  \n",
    "- **HeatingQC** - Heating quality and condition  \n",
    "- **CentralAir** - Central air conditioning  \n",
    "- **Electrical** - Electrical system  \n",
    "- **1stFlrSF** - First Floor square feet  \n",
    "- **2ndFlrSF** - Second floor square feet  \n",
    "- **LowQualFinSF** - Low quality finished square feet (all floors)  \n",
    "- **GrLivArea** - Above grade (ground) living area square feet  \n",
    "- **BsmtFullBath** - Basement full bathrooms  \n",
    "- **BsmtHalfBath** - Basement half bathrooms  \n",
    "- **FullBath** - Full bathrooms above grade  \n",
    "- **HalfBath** - Half baths above grade  \n",
    "- **Bedroom** - Number of bedrooms above basement level  \n",
    "- **Kitchen** - Number of kitchens  \n",
    "- **KitchenQual** - Kitchen quality  \n",
    "- **TotRmsAbvGrd** - Total rooms above grade (does not include bathrooms)  \n",
    "- **Functional** - Home functionality rating  \n",
    "- **Fireplaces** - Number of fireplaces  \n",
    "- **FireplaceQu** - Fireplace quality  \n",
    "- **GarageType** - Garage location  \n",
    "- **GarageYrBlt** - Year garage was built  \n",
    "- **GarageFinish** - Interior finish of the garage  \n",
    "- **GarageCars** - Size of garage in car capacity  \n",
    "- **GarageArea** - Size of garage in square feet  \n",
    "- **GarageQual** - Garage quality  \n",
    "- **GarageCond** - Garage condition  \n",
    "- **PavedDrive** - Paved driveway  \n",
    "- **WoodDeckSF** - Wood deck area in square feet  \n",
    "- **OpenPorchSF** - Open porch area in square feet  \n",
    "- **EnclosedPorch** - Enclosed porch area in square feet  \n",
    "- **3SsnPorch** - Three season porch area in square feet  \n",
    "- **ScreenPorch** - Screen porch area in square feet  \n",
    "- **PoolArea** - Pool area in square feet  \n",
    "- **PoolQC** - Pool quality  \n",
    "- **Fence** - Fence quality  \n",
    "- **MiscFeature** - Miscellaneous feature not covered in other categories  \n",
    "- **MiscVal** - Value of miscellaneous feature ($)  \n",
    "- **MoSold** - Month Sold  \n",
    "- **YrSold** - Year Sold  \n",
    "- **SaleType** - Type of sale  \n",
    "- **SaleCondition** - Condition of sale  \n"
   ]
  },
  {
   "cell_type": "code",
   "execution_count": 25,
   "metadata": {},
   "outputs": [],
   "source": [
    "# Load Libraries\n",
    "import pandas as pd"
   ]
  },
  {
   "cell_type": "code",
   "execution_count": null,
   "metadata": {},
   "outputs": [
    {
     "name": "stdout",
     "output_type": "stream",
     "text": [
      "        Id  MSSubClass MSZoning  LotFrontage  LotArea Street Alley LotShape  \\\n",
      "0        1          60       RL         65.0     8450   Pave   NaN      Reg   \n",
      "1        2          20       RL         80.0     9600   Pave   NaN      Reg   \n",
      "2        3          60       RL         68.0    11250   Pave   NaN      IR1   \n",
      "3        4          70       RL         60.0     9550   Pave   NaN      IR1   \n",
      "4        5          60       RL         84.0    14260   Pave   NaN      IR1   \n",
      "...    ...         ...      ...          ...      ...    ...   ...      ...   \n",
      "1455  1456          60       RL         62.0     7917   Pave   NaN      Reg   \n",
      "1456  1457          20       RL         85.0    13175   Pave   NaN      Reg   \n",
      "1457  1458          70       RL         66.0     9042   Pave   NaN      Reg   \n",
      "1458  1459          20       RL         68.0     9717   Pave   NaN      Reg   \n",
      "1459  1460          20       RL         75.0     9937   Pave   NaN      Reg   \n",
      "\n",
      "     LandContour Utilities  ... PoolArea PoolQC  Fence MiscFeature MiscVal  \\\n",
      "0            Lvl    AllPub  ...        0    NaN    NaN         NaN       0   \n",
      "1            Lvl    AllPub  ...        0    NaN    NaN         NaN       0   \n",
      "2            Lvl    AllPub  ...        0    NaN    NaN         NaN       0   \n",
      "3            Lvl    AllPub  ...        0    NaN    NaN         NaN       0   \n",
      "4            Lvl    AllPub  ...        0    NaN    NaN         NaN       0   \n",
      "...          ...       ...  ...      ...    ...    ...         ...     ...   \n",
      "1455         Lvl    AllPub  ...        0    NaN    NaN         NaN       0   \n",
      "1456         Lvl    AllPub  ...        0    NaN  MnPrv         NaN       0   \n",
      "1457         Lvl    AllPub  ...        0    NaN  GdPrv        Shed    2500   \n",
      "1458         Lvl    AllPub  ...        0    NaN    NaN         NaN       0   \n",
      "1459         Lvl    AllPub  ...        0    NaN    NaN         NaN       0   \n",
      "\n",
      "     MoSold YrSold  SaleType  SaleCondition  SalePrice  \n",
      "0         2   2008        WD         Normal     208500  \n",
      "1         5   2007        WD         Normal     181500  \n",
      "2         9   2008        WD         Normal     223500  \n",
      "3         2   2006        WD        Abnorml     140000  \n",
      "4        12   2008        WD         Normal     250000  \n",
      "...     ...    ...       ...            ...        ...  \n",
      "1455      8   2007        WD         Normal     175000  \n",
      "1456      2   2010        WD         Normal     210000  \n",
      "1457      5   2010        WD         Normal     266500  \n",
      "1458      4   2010        WD         Normal     142125  \n",
      "1459      6   2008        WD         Normal     147500  \n",
      "\n",
      "[1460 rows x 81 columns]\n"
     ]
    }
   ],
   "source": [
    "# Load Dataset over relative path\n",
    "df = pd.read_csv(\"housing_data.csv\")\n",
    "# Show results\n",
    "print(df)"
   ]
  },
  {
   "cell_type": "markdown",
   "metadata": {},
   "source": [
    "## Explore the Data"
   ]
  },
  {
   "cell_type": "code",
   "execution_count": 27,
   "metadata": {},
   "outputs": [
    {
     "data": {
      "text/plain": [
       "(1460, 81)"
      ]
     },
     "execution_count": 27,
     "metadata": {},
     "output_type": "execute_result"
    }
   ],
   "source": [
    "# Explore shape\n",
    "df.shape"
   ]
  },
  {
   "cell_type": "code",
   "execution_count": 28,
   "metadata": {},
   "outputs": [
    {
     "name": "stdout",
     "output_type": "stream",
     "text": [
      "<class 'pandas.core.frame.DataFrame'>\n",
      "RangeIndex: 1460 entries, 0 to 1459\n",
      "Data columns (total 81 columns):\n",
      " #   Column         Non-Null Count  Dtype  \n",
      "---  ------         --------------  -----  \n",
      " 0   Id             1460 non-null   int64  \n",
      " 1   MSSubClass     1460 non-null   int64  \n",
      " 2   MSZoning       1460 non-null   object \n",
      " 3   LotFrontage    1201 non-null   float64\n",
      " 4   LotArea        1460 non-null   int64  \n",
      " 5   Street         1460 non-null   object \n",
      " 6   Alley          91 non-null     object \n",
      " 7   LotShape       1460 non-null   object \n",
      " 8   LandContour    1460 non-null   object \n",
      " 9   Utilities      1460 non-null   object \n",
      " 10  LotConfig      1460 non-null   object \n",
      " 11  LandSlope      1460 non-null   object \n",
      " 12  Neighborhood   1460 non-null   object \n",
      " 13  Condition1     1460 non-null   object \n",
      " 14  Condition2     1460 non-null   object \n",
      " 15  BldgType       1460 non-null   object \n",
      " 16  HouseStyle     1460 non-null   object \n",
      " 17  OverallQual    1460 non-null   int64  \n",
      " 18  OverallCond    1460 non-null   int64  \n",
      " 19  YearBuilt      1460 non-null   int64  \n",
      " 20  YearRemodAdd   1460 non-null   int64  \n",
      " 21  RoofStyle      1460 non-null   object \n",
      " 22  RoofMatl       1460 non-null   object \n",
      " 23  Exterior1st    1460 non-null   object \n",
      " 24  Exterior2nd    1460 non-null   object \n",
      " 25  MasVnrType     588 non-null    object \n",
      " 26  MasVnrArea     1452 non-null   float64\n",
      " 27  ExterQual      1460 non-null   object \n",
      " 28  ExterCond      1460 non-null   object \n",
      " 29  Foundation     1460 non-null   object \n",
      " 30  BsmtQual       1423 non-null   object \n",
      " 31  BsmtCond       1423 non-null   object \n",
      " 32  BsmtExposure   1422 non-null   object \n",
      " 33  BsmtFinType1   1423 non-null   object \n",
      " 34  BsmtFinSF1     1460 non-null   int64  \n",
      " 35  BsmtFinType2   1422 non-null   object \n",
      " 36  BsmtFinSF2     1460 non-null   int64  \n",
      " 37  BsmtUnfSF      1460 non-null   int64  \n",
      " 38  TotalBsmtSF    1460 non-null   int64  \n",
      " 39  Heating        1460 non-null   object \n",
      " 40  HeatingQC      1460 non-null   object \n",
      " 41  CentralAir     1460 non-null   object \n",
      " 42  Electrical     1459 non-null   object \n",
      " 43  1stFlrSF       1460 non-null   int64  \n",
      " 44  2ndFlrSF       1460 non-null   int64  \n",
      " 45  LowQualFinSF   1460 non-null   int64  \n",
      " 46  GrLivArea      1460 non-null   int64  \n",
      " 47  BsmtFullBath   1460 non-null   int64  \n",
      " 48  BsmtHalfBath   1460 non-null   int64  \n",
      " 49  FullBath       1460 non-null   int64  \n",
      " 50  HalfBath       1460 non-null   int64  \n",
      " 51  BedroomAbvGr   1460 non-null   int64  \n",
      " 52  KitchenAbvGr   1460 non-null   int64  \n",
      " 53  KitchenQual    1460 non-null   object \n",
      " 54  TotRmsAbvGrd   1460 non-null   int64  \n",
      " 55  Functional     1460 non-null   object \n",
      " 56  Fireplaces     1460 non-null   int64  \n",
      " 57  FireplaceQu    770 non-null    object \n",
      " 58  GarageType     1379 non-null   object \n",
      " 59  GarageYrBlt    1379 non-null   float64\n",
      " 60  GarageFinish   1379 non-null   object \n",
      " 61  GarageCars     1460 non-null   int64  \n",
      " 62  GarageArea     1460 non-null   int64  \n",
      " 63  GarageQual     1379 non-null   object \n",
      " 64  GarageCond     1379 non-null   object \n",
      " 65  PavedDrive     1460 non-null   object \n",
      " 66  WoodDeckSF     1460 non-null   int64  \n",
      " 67  OpenPorchSF    1460 non-null   int64  \n",
      " 68  EnclosedPorch  1460 non-null   int64  \n",
      " 69  3SsnPorch      1460 non-null   int64  \n",
      " 70  ScreenPorch    1460 non-null   int64  \n",
      " 71  PoolArea       1460 non-null   int64  \n",
      " 72  PoolQC         7 non-null      object \n",
      " 73  Fence          281 non-null    object \n",
      " 74  MiscFeature    54 non-null     object \n",
      " 75  MiscVal        1460 non-null   int64  \n",
      " 76  MoSold         1460 non-null   int64  \n",
      " 77  YrSold         1460 non-null   int64  \n",
      " 78  SaleType       1460 non-null   object \n",
      " 79  SaleCondition  1460 non-null   object \n",
      " 80  SalePrice      1460 non-null   int64  \n",
      "dtypes: float64(3), int64(35), object(43)\n",
      "memory usage: 924.0+ KB\n"
     ]
    }
   ],
   "source": [
    "df.info()"
   ]
  },
  {
   "cell_type": "markdown",
   "metadata": {},
   "source": [
    "This dataset contains information about 1460 different houses and offers up to 81 different features per house. The data seems mostly complete with a few features that lack a lot of entries, so lets see."
   ]
  },
  {
   "cell_type": "code",
   "execution_count": 29,
   "metadata": {},
   "outputs": [
    {
     "name": "stdout",
     "output_type": "stream",
     "text": [
      "Features that are not 100% non-null: ['LotFrontage', 'Alley', 'MasVnrType', 'MasVnrArea', 'BsmtQual', 'BsmtCond', 'BsmtExposure', 'BsmtFinType1', 'BsmtFinType2', 'Electrical', 'FireplaceQu', 'GarageType', 'GarageYrBlt', 'GarageFinish', 'GarageQual', 'GarageCond', 'PoolQC', 'Fence', 'MiscFeature']\n",
      "Percentage of features that are not 100% non-null: 23.46%\n"
     ]
    }
   ],
   "source": [
    "# Get the total number of features\n",
    "total_features = df.shape[1]  \n",
    "\n",
    "# Identify columns that are NOT 100% non-null\n",
    "missing_features = df.columns[df.isnull().any()].tolist()\n",
    "\n",
    "# Calculate the percentage of features that are NOT 100% non-null\n",
    "percentage_not_full = (len(missing_features) / total_features) * 100\n",
    "\n",
    "# Display results\n",
    "print(\"Features that are not 100% non-null:\", missing_features)\n",
    "print(f\"Percentage of features that are not 100% non-null: {percentage_not_full:.2f}%\")"
   ]
  },
  {
   "cell_type": "markdown",
   "metadata": {},
   "source": [
    "The missing features seem to be expendable for now, so lets kick them out and work with what we have, since it is a pretty good base."
   ]
  },
  {
   "cell_type": "code",
   "execution_count": 30,
   "metadata": {},
   "outputs": [
    {
     "name": "stdout",
     "output_type": "stream",
     "text": [
      "Features that are not 100% non-null: []\n",
      "Percentage of features that are not 100% non-null: 0.00%\n"
     ]
    }
   ],
   "source": [
    "# Drops columns with at least one NaN\n",
    "df = df.dropna(axis=1)\n",
    "\n",
    "# Lets see if it has worked\n",
    "# Get the total number of features\n",
    "total_features = df.shape[1]  \n",
    "\n",
    "# Identify columns that are NOT 100% non-null\n",
    "missing_features = df.columns[df.isnull().any()].tolist()\n",
    "\n",
    "# Calculate the percentage of features that are NOT 100% non-null\n",
    "percentage_not_full = (len(missing_features) / total_features) * 100\n",
    "\n",
    "# Display results\n",
    "print(\"Features that are not 100% non-null:\", missing_features)\n",
    "print(f\"Percentage of features that are not 100% non-null: {percentage_not_full:.2f}%\")"
   ]
  },
  {
   "cell_type": "markdown",
   "metadata": {},
   "source": [
    "Now lets see how we can analyze the features of our dataframe, starting with the main feature: SalePrice. This is typically the target feature and we will find out which other features influence the saleprice most.\n",
    "\n",
    "First we split the features we have in numerical and categorical."
   ]
  },
  {
   "cell_type": "code",
   "execution_count": 31,
   "metadata": {},
   "outputs": [],
   "source": [
    "# Separate numerical and categorical features into two DataFrames\n",
    "df_numerical = df.select_dtypes(include=['number'])  # DataFrame with numerical features\n",
    "df_categorical = df.select_dtypes(include=['object', 'category'])  # DataFrame with categorical features"
   ]
  },
  {
   "cell_type": "code",
   "execution_count": 32,
   "metadata": {},
   "outputs": [
    {
     "name": "stdout",
     "output_type": "stream",
     "text": [
      "Numerical Features DataFrame:\n",
      "<class 'pandas.core.frame.DataFrame'>\n",
      "RangeIndex: 1460 entries, 0 to 1459\n",
      "Data columns (total 35 columns):\n",
      " #   Column         Non-Null Count  Dtype\n",
      "---  ------         --------------  -----\n",
      " 0   Id             1460 non-null   int64\n",
      " 1   MSSubClass     1460 non-null   int64\n",
      " 2   LotArea        1460 non-null   int64\n",
      " 3   OverallQual    1460 non-null   int64\n",
      " 4   OverallCond    1460 non-null   int64\n",
      " 5   YearBuilt      1460 non-null   int64\n",
      " 6   YearRemodAdd   1460 non-null   int64\n",
      " 7   BsmtFinSF1     1460 non-null   int64\n",
      " 8   BsmtFinSF2     1460 non-null   int64\n",
      " 9   BsmtUnfSF      1460 non-null   int64\n",
      " 10  TotalBsmtSF    1460 non-null   int64\n",
      " 11  1stFlrSF       1460 non-null   int64\n",
      " 12  2ndFlrSF       1460 non-null   int64\n",
      " 13  LowQualFinSF   1460 non-null   int64\n",
      " 14  GrLivArea      1460 non-null   int64\n",
      " 15  BsmtFullBath   1460 non-null   int64\n",
      " 16  BsmtHalfBath   1460 non-null   int64\n",
      " 17  FullBath       1460 non-null   int64\n",
      " 18  HalfBath       1460 non-null   int64\n",
      " 19  BedroomAbvGr   1460 non-null   int64\n",
      " 20  KitchenAbvGr   1460 non-null   int64\n",
      " 21  TotRmsAbvGrd   1460 non-null   int64\n",
      " 22  Fireplaces     1460 non-null   int64\n",
      " 23  GarageCars     1460 non-null   int64\n",
      " 24  GarageArea     1460 non-null   int64\n",
      " 25  WoodDeckSF     1460 non-null   int64\n",
      " 26  OpenPorchSF    1460 non-null   int64\n",
      " 27  EnclosedPorch  1460 non-null   int64\n",
      " 28  3SsnPorch      1460 non-null   int64\n",
      " 29  ScreenPorch    1460 non-null   int64\n",
      " 30  PoolArea       1460 non-null   int64\n",
      " 31  MiscVal        1460 non-null   int64\n",
      " 32  MoSold         1460 non-null   int64\n",
      " 33  YrSold         1460 non-null   int64\n",
      " 34  SalePrice      1460 non-null   int64\n",
      "dtypes: int64(35)\n",
      "memory usage: 399.3 KB\n"
     ]
    }
   ],
   "source": [
    "print(\"Numerical Features DataFrame:\")\n",
    "df_numerical.info()"
   ]
  },
  {
   "cell_type": "code",
   "execution_count": 33,
   "metadata": {},
   "outputs": [
    {
     "name": "stdout",
     "output_type": "stream",
     "text": [
      "Categorical Features DataFrame:\n",
      "<class 'pandas.core.frame.DataFrame'>\n",
      "RangeIndex: 1460 entries, 0 to 1459\n",
      "Data columns (total 27 columns):\n",
      " #   Column         Non-Null Count  Dtype \n",
      "---  ------         --------------  ----- \n",
      " 0   MSZoning       1460 non-null   object\n",
      " 1   Street         1460 non-null   object\n",
      " 2   LotShape       1460 non-null   object\n",
      " 3   LandContour    1460 non-null   object\n",
      " 4   Utilities      1460 non-null   object\n",
      " 5   LotConfig      1460 non-null   object\n",
      " 6   LandSlope      1460 non-null   object\n",
      " 7   Neighborhood   1460 non-null   object\n",
      " 8   Condition1     1460 non-null   object\n",
      " 9   Condition2     1460 non-null   object\n",
      " 10  BldgType       1460 non-null   object\n",
      " 11  HouseStyle     1460 non-null   object\n",
      " 12  RoofStyle      1460 non-null   object\n",
      " 13  RoofMatl       1460 non-null   object\n",
      " 14  Exterior1st    1460 non-null   object\n",
      " 15  Exterior2nd    1460 non-null   object\n",
      " 16  ExterQual      1460 non-null   object\n",
      " 17  ExterCond      1460 non-null   object\n",
      " 18  Foundation     1460 non-null   object\n",
      " 19  Heating        1460 non-null   object\n",
      " 20  HeatingQC      1460 non-null   object\n",
      " 21  CentralAir     1460 non-null   object\n",
      " 22  KitchenQual    1460 non-null   object\n",
      " 23  Functional     1460 non-null   object\n",
      " 24  PavedDrive     1460 non-null   object\n",
      " 25  SaleType       1460 non-null   object\n",
      " 26  SaleCondition  1460 non-null   object\n",
      "dtypes: object(27)\n",
      "memory usage: 308.1+ KB\n"
     ]
    }
   ],
   "source": [
    "print(\"Categorical Features DataFrame:\")\n",
    "df_categorical.info()"
   ]
  },
  {
   "cell_type": "markdown",
   "metadata": {},
   "source": [
    "We have a lot of 100% filled in features inside both numerical and categorical features, so for now we kick all the incomplete features out."
   ]
  },
  {
   "cell_type": "code",
   "execution_count": null,
   "metadata": {},
   "outputs": [],
   "source": []
  },
  {
   "cell_type": "code",
   "execution_count": null,
   "metadata": {},
   "outputs": [],
   "source": []
  },
  {
   "cell_type": "code",
   "execution_count": null,
   "metadata": {},
   "outputs": [],
   "source": []
  }
 ],
 "metadata": {
  "kernelspec": {
   "display_name": "Python 3",
   "language": "python",
   "name": "python3"
  },
  "language_info": {
   "codemirror_mode": {
    "name": "ipython",
    "version": 3
   },
   "file_extension": ".py",
   "mimetype": "text/x-python",
   "name": "python",
   "nbconvert_exporter": "python",
   "pygments_lexer": "ipython3",
   "version": "3.12.3"
  }
 },
 "nbformat": 4,
 "nbformat_minor": 2
}
